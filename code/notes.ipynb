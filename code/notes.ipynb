{
 "cells": [
  {
   "cell_type": "markdown",
   "metadata": {},
   "source": [
    "# Notes\n",
    "\n",
    "Doing checks and experiments here with the code."
   ]
  },
  {
   "cell_type": "markdown",
   "metadata": {},
   "source": [
    "## 1. Neural Network Input Passing\n",
    "When passing a sequence of inputs over time to the neural network, does it matter whether the input\n",
    "- is given staggered or\n",
    "- is given all at once?"
   ]
  },
  {
   "cell_type": "code",
   "execution_count": 1,
   "metadata": {},
   "outputs": [
    {
     "name": "stdout",
     "output_type": "stream",
     "text": [
      "1. step output: tensor([-0.2043, -0.7556, -0.5541])\n",
      "2. step output: tensor([ 0.0457, -0.5564, -0.2010])\n",
      "3. step output: tensor([-0.2107, -0.6166, -0.5824]) = tensor([-0.2107, -0.6166, -0.5824]) sequence output\n",
      "first hidden state: tensor([[-0.8255,  0.7469]])\n",
      "second hidden state: tensor([[-0.0388,  0.3504]])\n",
      "third hidden state: tensor([[-0.8607,  0.5341]]) = tensor([[-0.8607,  0.5341]]) sequence hidden state\n"
     ]
    }
   ],
   "source": [
    "from simulation import Params\n",
    "from agent import Rnn\n",
    "import torch\n",
    "params = Params.from_json('parameters.json')\n",
    "rnn = Rnn(params)\n",
    "\n",
    "initial_hidden_state = None\n",
    "first_input = torch.tensor([[0.5, -0.3, 1.0, 0.2]], dtype=torch.float32)\n",
    "second_input = torch.tensor([[0.1, 0.7, 0.3, 0.5]], dtype=torch.float32)\n",
    "third_input = torch.tensor([[0.2, -0.5, 0.8, 0.7]], dtype=torch.float32)\n",
    "first_output, first_hidden_state = rnn(first_input, initial_hidden_state)\n",
    "second_output, second_hidden_state = rnn(second_input, first_hidden_state)\n",
    "third_output, third_hidden_state = rnn(third_input, second_hidden_state)\n",
    "\n",
    "sequence_input = torch.tensor([\n",
    "    [0.5, -0.3, 1.0, 0.2],\n",
    "    [0.1, 0.7, 0.3, 0.5],\n",
    "    [0.2, -0.5, 0.8, 0.7]\n",
    "], dtype=torch.float32)\n",
    "output, sequence_hidden_state = rnn(sequence_input, initial_hidden_state)\n",
    "print('1. step output:', first_output)\n",
    "print('2. step output:', second_output)\n",
    "print('3. step output:', third_output, '=', output, 'sequence output')\n",
    "print('first hidden state:', first_hidden_state)\n",
    "print('second hidden state:', second_hidden_state)\n",
    "print('third hidden state:', third_hidden_state, '=', sequence_hidden_state, 'sequence hidden state')"
   ]
  },
  {
   "cell_type": "markdown",
   "metadata": {},
   "source": [
    "So it does not matter whether the inputs are passed in a staggered fashion or all at once."
   ]
  },
  {
   "cell_type": "markdown",
   "metadata": {},
   "source": [
    "## 2. Neural Network Recurrent Layer Outputs\n",
    "Understand the outputs of the recurrent hidden layer."
   ]
  },
  {
   "cell_type": "code",
   "execution_count": 2,
   "metadata": {},
   "outputs": [
    {
     "name": "stdout",
     "output_type": "stream",
     "text": [
      "input_data: tensor([[0.7092, 0.0072, 0.0412, 0.1066]])\n",
      "hidden_output: tensor([ 0.3842, -0.0550, -0.1247])\n",
      "hidden_state: tensor([[-0.5950,  0.7018]])\n"
     ]
    }
   ],
   "source": [
    "from simulation import Params\n",
    "from agent import Rnn\n",
    "import torch\n",
    "\n",
    "params = Params.from_json('parameters.json')\n",
    "model = Rnn(params)\n",
    "input_data = torch.rand(1, model.input_size)\n",
    "print('input_data:', input_data)\n",
    "hidden_output, hidden_state = model.forward(input_data, torch.zeros(1, model.hidden_size))\n",
    "print('hidden_output:', hidden_output)\n",
    "print('hidden_state:', hidden_state)\n"
   ]
  },
  {
   "cell_type": "markdown",
   "metadata": {},
   "source": [
    "The forward function returns the output from the hidden layer to the output layer and the updated hidden state."
   ]
  },
  {
   "cell_type": "markdown",
   "metadata": {},
   "source": [
    "## 3. Test Environment Function\n",
    "**Objective:** Test the get_closest_food function visually. "
   ]
  },
  {
   "cell_type": "code",
   "execution_count": 3,
   "metadata": {},
   "outputs": [
    {
     "name": "stdout",
     "output_type": "stream",
     "text": [
      "closest_position: [ 84.78879334 149.97336021]\n",
      "closest_distance: 6.753026452771308\n"
     ]
    },
    {
     "data": {
      "image/png": "[encoded data removed]",
      "text/plain": [
       "<Figure size 1000x1000 with 1 Axes>"
      ]
     },
     "metadata": {},
     "output_type": "display_data"
    }
   ],
   "source": [
    "from environment import Environment\n",
    "from agent import Agent, Rnn\n",
    "from simulation import Params\n",
    "from visualization import visualize_state\n",
    "import matplotlib.pyplot as plt\n",
    "import numpy as np\n",
    "\n",
    "params = Params.from_json('parameters.json')\n",
    "environment = Environment(params)\n",
    "model = Rnn(params)\n",
    "agent = Agent(model, params)\n",
    "agent.position = environment.get_random_position()\n",
    "\n",
    "# extra test for periodic boundaries\n",
    "# agent.position = np.array([environment.size - 10, environment.size/2])\n",
    "# agent.food_mask = np.zeros(2, dtype=bool)\n",
    "# environment.food_positions = np.asarray([[environment.size/3, environment.size/2], [10, environment.size/2]])\n",
    "# environment.num_food = 2\n",
    "\n",
    "ax = visualize_state(environment, [agent])\n",
    "\n",
    "agent.perception_radius = environment.size\n",
    "closest_position, closest_distance, closest_index = environment.get_closest_food(agent)\n",
    "print('closest_position:', closest_position)\n",
    "print('closest_distance:', closest_distance)\n",
    "\n",
    "ax.scatter(closest_position[0], closest_position[1], color='red', s=200, alpha=0.5)\n",
    "plt.show()"
   ]
  },
  {
   "cell_type": "markdown",
   "metadata": {},
   "source": [
    "## 4. Test Agent Helper Functions "
   ]
  },
  {
   "cell_type": "code",
   "execution_count": 16,
   "metadata": {},
   "outputs": [],
   "source": [
    "from agent import vector_to_angle, calculate_angle_difference\n",
    "import numpy as np\n",
    "\n",
    "assert(vector_to_angle(np.asarray([1, 0]))/np.pi == 0.0)\n",
    "assert(vector_to_angle(np.asarray([0, 1]))/np.pi == 0.5)\n",
    "assert(vector_to_angle(np.asarray([-1, 0]))/np.pi == 1.0)\n",
    "assert(vector_to_angle(np.asarray([0, -1]))/np.pi == -0.5)\n",
    "assert(vector_to_angle(np.asarray([1, 1]))/np.pi == 0.25)\n",
    "assert(vector_to_angle(np.asarray([0, 0]))/np.pi == 0.0)\n",
    "assert(calculate_angle_difference(np.pi, np.pi*0.5) == 0.5*np.pi)\n",
    "assert(calculate_angle_difference(np.pi*0.5, np.pi) == -0.5*np.pi)\n",
    "assert(calculate_angle_difference(np.pi*0.5, 3*np.pi/2) == -np.pi)\n",
    "assert(calculate_angle_difference(0, 0) == 0)\n",
    "assert(calculate_angle_difference(0, 2*np.pi) == 0)\n",
    "assert(calculate_angle_difference(9/10*np.pi, 1/10*np.pi) == 8/10*np.pi)\n",
    "assert(calculate_angle_difference(1/10*np.pi, 9/10*np.pi) == -8/10*np.pi)\n",
    "assert(calculate_angle_difference(1/10*np.pi, 19/10*np.pi) == 0.2*np.pi)\n",
    "assert(calculate_angle_difference(0, np.pi) == -np.pi)\n",
    "assert(calculate_angle_difference(np.pi, 3*np.pi/2) == -np.pi/2)"
   ]
  }
 ],
 "metadata": {
  "kernelspec": {
   "display_name": "levy-agent-simulation",
   "language": "python",
   "name": "python3"
  },
  "language_info": {
   "codemirror_mode": {
    "name": "ipython",
    "version": 3
   },
   "file_extension": ".py",
   "mimetype": "text/x-python",
   "name": "python",
   "nbconvert_exporter": "python",
   "pygments_lexer": "ipython3",
   "version": "3.11.4"
  }
 },
 "nbformat": 4,
 "nbformat_minor": 2
}
