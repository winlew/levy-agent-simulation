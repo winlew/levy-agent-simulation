{
 "cells": [
  {
   "cell_type": "markdown",
   "metadata": {},
   "source": [
    "# Arena \n",
    "**Objective:** Test agent behaviour in silico ex situ. \n",
    "\n",
    "Test the foraging behaviour of the best agent of the last epoch of a given simulation in an artificially customized environment."
   ]
  },
  {
   "cell_type": "code",
   "execution_count": 14,
   "metadata": {},
   "outputs": [
    {
     "name": "stderr",
     "output_type": "stream",
     "text": [
      "Animating 1/1: 100%|█████████▉| 299/300 [00:40<00:00, 15.14frame/s]"
     ]
    },
    {
     "name": "stdout",
     "output_type": "stream",
     "text": [
      "Safed animation under:\n",
      "/home/lewin/levy-agent-simulation/data/small_no_wall_2/arena\n"
     ]
    }
   ],
   "source": [
    "from data_io import load_population, initialize_epoch_data, load_epoch_data\n",
    "import numpy as np\n",
    "from environment import Environment\n",
    "from visualization import animate\n",
    "from simulation import Simulation\n",
    "\n",
    "# enter a folder name to take the best agent from and simulate it in the arena\n",
    "folder_name = 'small_no_wall_2'\n",
    "data, _, params = load_epoch_data(folder_name)\n",
    "population = load_population(folder_name)\n",
    "\n",
    "fitnesses = np.mean(data.meals.values, axis=0)\n",
    "best_agent_idx = np.argmax(fitnesses)\n",
    "best_agent = population[best_agent_idx]\n",
    "population = [best_agent]\n",
    "params.population_size = 1\n",
    "params.num_epoch = 1\n",
    "params.iterations_per_epoch = 1\n",
    "params.size = 100\n",
    "environment = Environment(params)\n",
    "environment.custom_food_positioning()\n",
    "environment.walls = []\n",
    "environment.num_food = len(environment.food_positions)\n",
    "best_agent.food_mask = np.zeros(environment.num_food, dtype=bool)\n",
    "best_agent.position = np.array([environment.size/2, environment.size/2])\n",
    "best_agent.direction = np.pi/2\n",
    "params.simulation_steps = 300\n",
    "# params.slow_perception_radius = 10\n",
    "# best_agent.perception_radius = 10\n",
    "# best_agent.slow_perception_radius = 10\n",
    "\n",
    "data = initialize_epoch_data(params)\n",
    "sim = Simulation(params)\n",
    "sim.store_positions(population, 0)\n",
    "\n",
    "for step in range(params.simulation_steps - 1):\n",
    "    sim.simulate_step(population, environment, step=step+1)\n",
    "\n",
    "data[\"x_position\"].loc[0, :, 0] = sim.trajectory_log[:, 0, 0]\n",
    "data[\"y_position\"].loc[0, :, 0] = sim.trajectory_log[:, 0, 1]\n",
    "data[\"direction\"].loc[0, :, 0] = sim.trajectory_log[:, 0, 2]\n",
    "data[\"perception_radius\"].loc[0, :, 0] = sim.trajectory_log[:, 0, 3]\n",
    "\n",
    "folder = folder_name + '/arena'\n",
    "\n",
    "animate(environment, params, data, folder_name=folder)"
   ]
  }
 ],
 "metadata": {
  "kernelspec": {
   "display_name": "levy-agent-simulation",
   "language": "python",
   "name": "python3"
  },
  "language_info": {
   "codemirror_mode": {
    "name": "ipython",
    "version": 3
   },
   "file_extension": ".py",
   "mimetype": "text/x-python",
   "name": "python",
   "nbconvert_exporter": "python",
   "pygments_lexer": "ipython3",
   "version": "3.11.4"
  }
 },
 "nbformat": 4,
 "nbformat_minor": 2
}
