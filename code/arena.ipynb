{
 "cells": [
  {
   "cell_type": "markdown",
   "metadata": {},
   "source": [
    "# Arena \n",
    "**Objective:** Test agent behaviour in silico ex situ. This is a playground to experiment with the foraging behaviour of the best agent of the last epoch of a given simulation in an artificially customized environment."
   ]
  },
  {
   "cell_type": "code",
   "execution_count": null,
   "metadata": {},
   "outputs": [],
   "source": [
    "# TODO not working currently - but also only does not make sense for Lévy and Ballistic agents\n",
    "\n",
    "# Enter the name of a folder to take the simulation data from below.\n",
    "folder = 'test'\n",
    "\n",
    "SIZE = 100\n",
    "STEPS = 300"
   ]
  },
  {
   "cell_type": "code",
   "execution_count": 8,
   "metadata": {},
   "outputs": [
    {
     "ename": "IndexError",
     "evalue": "list index out of range",
     "output_type": "error",
     "traceback": [
      "\u001b[0;31m---------------------------------------------------------------------------\u001b[0m",
      "\u001b[0;31mIndexError\u001b[0m                                Traceback (most recent call last)",
      "Cell \u001b[0;32mIn[8], line 12\u001b[0m\n\u001b[1;32m     10\u001b[0m fitnesses \u001b[38;5;241m=\u001b[39m data[\u001b[38;5;124m'\u001b[39m\u001b[38;5;124mate\u001b[39m\u001b[38;5;124m'\u001b[39m]\u001b[38;5;241m.\u001b[39mvalues[\u001b[38;5;241m0\u001b[39m]\u001b[38;5;241m.\u001b[39msum(axis\u001b[38;5;241m=\u001b[39m\u001b[38;5;241m0\u001b[39m)\n\u001b[1;32m     11\u001b[0m best_agent_idx \u001b[38;5;241m=\u001b[39m np\u001b[38;5;241m.\u001b[39margmax(fitnesses)\n\u001b[0;32m---> 12\u001b[0m best_agent \u001b[38;5;241m=\u001b[39m \u001b[43mpopulation\u001b[49m\u001b[43m[\u001b[49m\u001b[43mbest_agent_idx\u001b[49m\u001b[43m]\u001b[49m\n\u001b[1;32m     13\u001b[0m population \u001b[38;5;241m=\u001b[39m [best_agent]\n\u001b[1;32m     14\u001b[0m params\u001b[38;5;241m.\u001b[39mpopulation_size \u001b[38;5;241m=\u001b[39m \u001b[38;5;241m1\u001b[39m\n",
      "\u001b[0;31mIndexError\u001b[0m: list index out of range"
     ]
    }
   ],
   "source": [
    "from data_io import load_population, initialize_epoch_data, load_epoch_data\n",
    "import numpy as np\n",
    "from environment import Environment\n",
    "from visualization import animate\n",
    "from simulation import Simulation\n",
    "\n",
    "data, _, params = load_epoch_data(folder)\n",
    "population = load_population(folder)\n",
    "\n",
    "fitnesses = data['ate'].values[0].sum(axis=0)\n",
    "best_agent_idx = np.argmax(fitnesses)\n",
    "best_agent = population[best_agent_idx]\n",
    "population = [best_agent]\n",
    "params.population_size = 1\n",
    "params.num_epoch = 1\n",
    "params.iterations_per_epoch = 1\n",
    "params.size = SIZE\n",
    "params.simulation_steps = STEPS\n",
    "environment = Environment(params)\n",
    "environment.custom_food_positioning()\n",
    "params.num_food = environment.num_food\n",
    "environment.walls = []\n",
    "best_agent.food_mask = np.zeros(environment.num_food, dtype=bool)\n",
    "best_agent.position = np.array([environment.size/2, environment.size/2])\n",
    "best_agent.direction = np.pi/2\n",
    "\n",
    "sim = Simulation(params, None)\n",
    "sim.run(folder, population)\n",
    "# visualize results\n",
    "data, environment, params = load_epoch_data(folder)\n",
    "animate(environment, params, data, folder_name=folder)"
   ]
  }
 ],
 "metadata": {
  "kernelspec": {
   "display_name": "levy-agent-simulation",
   "language": "python",
   "name": "python3"
  },
  "language_info": {
   "codemirror_mode": {
    "name": "ipython",
    "version": 3
   },
   "file_extension": ".py",
   "mimetype": "text/x-python",
   "name": "python",
   "nbconvert_exporter": "python",
   "pygments_lexer": "ipython3",
   "version": "3.11.4"
  }
 },
 "nbformat": 4,
 "nbformat_minor": 2
}
