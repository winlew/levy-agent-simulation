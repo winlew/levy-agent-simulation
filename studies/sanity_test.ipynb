{
 "cells": [
  {
   "cell_type": "markdown",
   "id": "9396e0a8",
   "metadata": {},
   "source": [
    "# Sanity Test the Code\n",
    "Verify that all essential simulation functions do what they should."
   ]
  },
  {
   "cell_type": "code",
   "execution_count": 1,
   "id": "dc89d7d5",
   "metadata": {},
   "outputs": [],
   "source": [
    "import os\n",
    "os.chdir(os.path.join(os.getcwd(), \"../code\"))\n",
    "import numpy as np\n",
    "from parameters import Params\n",
    "from simulation import Simulation\n",
    "import matplotlib.pyplot as plt\n",
    "from environment import Environment\n",
    "from visualization import visualize_state\n",
    "\n",
    "params = Params.from_json('parameters.json')\n",
    "params.save = False\n",
    "params.size = 20\n",
    "params.num_food = 2\n",
    "params.population_size = 3\n",
    "params.iterations = 7\n",
    "environment = Environment(params)\n",
    "folder = 'None'"
   ]
  },
  {
   "cell_type": "code",
   "execution_count": 2,
   "id": "6affca92",
   "metadata": {},
   "outputs": [
    {
     "name": "stdout",
     "output_type": "stream",
     "text": [
      "[[1. 2. 0.]\n",
      " [0. 0. 0.]\n",
      " [0. 0. 1.]\n",
      " [0. 0. 1.]\n",
      " [0. 0. 1.]\n",
      " [0. 0. 0.]\n",
      " [0. 0. 0.]]\n"
     ]
    }
   ],
   "source": [
    "sim = Simulation(params, params.agent)\n",
    "fitnesses = sim.run(folder)\n",
    "print(fitnesses)"
   ]
  },
  {
   "cell_type": "code",
   "execution_count": 3,
   "id": "3b07b206",
   "metadata": {},
   "outputs": [
    {
     "name": "stdout",
     "output_type": "stream",
     "text": [
      "(7, 100, 3)\n",
      "(7, 100, 3)\n",
      "(7, 100, 3)\n",
      "(7, 100, 3)\n"
     ]
    }
   ],
   "source": [
    "print(sim.data['ate'].shape)\n",
    "print(sim.data['x_position'].shape)\n",
    "print(sim.data['y_position'].shape)\n",
    "print(sim.data['direction'].shape)"
   ]
  },
  {
   "cell_type": "code",
   "execution_count": 4,
   "id": "890c8269",
   "metadata": {},
   "outputs": [],
   "source": [
    "assert(max(sim.data['ate'].values.flatten()) <= 1)\n",
    "assert(min(sim.data['ate'].values.flatten()) == 0)\n",
    "assert(max(sim.data['x_position'].values.flatten()) <= params.size)\n",
    "assert(min(sim.data['x_position'].values.flatten()) >= 0)\n",
    "assert(max(sim.data['y_position'].values.flatten()) <= params.size)\n",
    "assert(min(sim.data['y_position'].values.flatten()) >= 0)\n",
    "assert(max(sim.data['direction'].values.flatten()) <= 2*np.pi)\n",
    "assert(min(sim.data['direction'].values.flatten()) >= 0)"
   ]
  },
  {
   "cell_type": "markdown",
   "id": "2c76fdad",
   "metadata": {},
   "source": [
    "Visually verify that agents recorded positions also align with actual agent positions"
   ]
  },
  {
   "cell_type": "code",
   "execution_count": 6,
   "id": "068e508f",
   "metadata": {},
   "outputs": [
    {
     "name": "stdout",
     "output_type": "stream",
     "text": [
      "[0. 0. 0.]\n",
      "[0. 0. 0.]\n",
      "[0. 0. 0.]\n"
     ]
    },
    {
     "data": {
      "text/plain": [
       "<Axes: title={'center': 'Simulation Environment'}, xlabel='X', ylabel='Y'>"
      ]
     },
     "execution_count": 6,
     "metadata": {},
     "output_type": "execute_result"
    },
    {
     "data": {
      "image/png": "[encoded data removed]",
      "text/plain": [
       "<Figure size 1000x1000 with 1 Axes>"
      ]
     },
     "metadata": {},
     "output_type": "display_data"
    }
   ],
   "source": [
    "del sim\n",
    "sim = Simulation(params, params.agent)\n",
    "population = sim.run_iteration(sim.set_up_population(None), environment)\n",
    "\n",
    "print(sim.data['x_position'].values[params.iterations - 1][params.total_time])\n",
    "print(sim.data['y_position'].values[params.iterations - 1][params.total_time])\n",
    "print(sim.data['direction'].values[params.iterations - 1][params.total_time])\n",
    "\n",
    "visualize_state(environment, population)"
   ]
  }
 ],
 "metadata": {
  "kernelspec": {
   "display_name": "levy-agent-simulation",
   "language": "python",
   "name": "python3"
  },
  "language_info": {
   "codemirror_mode": {
    "name": "ipython",
    "version": 3
   },
   "file_extension": ".py",
   "mimetype": "text/x-python",
   "name": "python",
   "nbconvert_exporter": "python",
   "pygments_lexer": "ipython3",
   "version": "3.11.4"
  }
 },
 "nbformat": 4,
 "nbformat_minor": 5
}
