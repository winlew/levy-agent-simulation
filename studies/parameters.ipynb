{
 "cells": [
  {
   "cell_type": "markdown",
   "id": "ea746ce0",
   "metadata": {},
   "source": [
    "# Compare the Fitness of Agents for Different Parameterizations\n",
    "\n",
    "**Objective**: Under which parameterization is each agents exploration strategy optimal?\n",
    "\n",
    "| Agent    | Parameter      |\n",
    "| ------------- | ------------- |\n",
    "| Reservoir | $\\sigma$ |\n",
    "| Lévy | $\\mu$ |\n",
    "| Exponential | $\\alpha$ |"
   ]
  },
  {
   "cell_type": "code",
   "execution_count": 1,
   "id": "65bf235e",
   "metadata": {},
   "outputs": [
    {
     "name": "stdout",
     "output_type": "stream",
     "text": [
      "{'agent': <class 'agent.ReservoirAgent'>, 'population_size': 50, 'eat_radius': 0.5, 'velocity': 1, 'mu': 2, 'alpha': 0.3, 'num_neurons': 1000, 'burn_in_time': 1000, 'mean': 0, 'standard_deviation': 0.055, 'num_food': 100, 'size': 200, 'border_buffer': 0, 'food_buffer': 2, 'resetting_boundary': True, 'seed': 34, 'total_time': 999, 'delta_t': 1, 'iterations': 20, 'save': False, 'simulation_steps': 1000}\n"
     ]
    }
   ],
   "source": [
    "import os\n",
    "os.chdir(os.path.join(os.getcwd(), \"../code\"))\n",
    "import numpy as np\n",
    "from parameters import Params, agent_classes\n",
    "from simulation import Simulation\n",
    "from tqdm import tqdm\n",
    "from agent import ReservoirAgent, LévyAgent, ExponentialAgent, BallisticAgent, BrownianAgent\n",
    "import matplotlib.pyplot as plt\n",
    "from multiprocessing import Pool\n",
    "from config import DATA_PATH, MAX_PROCESSES, LATEX_TEXTWIDTH\n",
    "from pathlib import Path\n",
    "import pickle\n",
    "\n",
    "params = Params.from_json('parameters.json')\n",
    "params.save = False\n",
    "folder = 'parameters'\n",
    "path = Path(DATA_PATH) / folder\n",
    "path.mkdir(parents=True, exist_ok=True)\n",
    "data = {}\n",
    "\n",
    "print(vars(params))"
   ]
  },
  {
   "cell_type": "markdown",
   "id": "b70ddea6",
   "metadata": {},
   "source": [
    "# Reservoir Agent\n",
    "\n",
    "Note: Computing the reservoir activity over time is computationally expensive and may use all cores, so multiprocessing is not worth it for reservoir agents. \\\n",
    "Advice: limit population size to 50 and iterations to 10 if you want the reservoir agents to finish in reasonable time."
   ]
  },
  {
   "cell_type": "code",
   "execution_count": 2,
   "id": "eb641f88",
   "metadata": {},
   "outputs": [
    {
     "name": "stderr",
     "output_type": "stream",
     "text": [
      "100%|██████████| 60/60 [4:59:18<00:00, 299.31s/it]  \n"
     ]
    }
   ],
   "source": [
    "params.type = 'reservoir'\n",
    "params.agent = ReservoirAgent\n",
    "std_range = list(np.arange(0.02, 0.05, 0.0005))\n",
    "reservoir_sizes = [1000]\n",
    "\n",
    "for size in reservoir_sizes:\n",
    "    params.num_neurons = size\n",
    "    fitness_values = []\n",
    "    \n",
    "    for std in tqdm(std_range, position=0):\n",
    "        params.standard_deviation = std\n",
    "        sim = Simulation(params, params.agent)\n",
    "        fitness_values.append(np.mean(sim.run(folder), axis=(0,1)))\n",
    "    \n",
    "    data[params.type + '_' + str(size)] = fitness_values"
   ]
  },
  {
   "cell_type": "markdown",
   "id": "f2b30314",
   "metadata": {},
   "source": [
    "# Lévy Agent"
   ]
  },
  {
   "cell_type": "code",
   "execution_count": 11,
   "id": "b9a07d94",
   "metadata": {},
   "outputs": [
    {
     "name": "stderr",
     "output_type": "stream",
     "text": [
      "100%|██████████| 60/60 [48:07<00:00, 48.13s/it]  \n"
     ]
    }
   ],
   "source": [
    "params.type = 'levy'\n",
    "params.agent = LévyAgent\n",
    "mu_range = list(np.arange(1.033, 3, 0.033))\n",
    "\n",
    "def run_simulation(mu):\n",
    "    params.mu = mu\n",
    "    sim = Simulation(params, agent_classes[params.type])\n",
    "    return np.mean(sim.run(folder))\n",
    "\n",
    "tasks = []\n",
    "for mu in mu_range:\n",
    "    tasks.append(mu)\n",
    "\n",
    "with Pool(MAX_PROCESSES) as pool:\n",
    "    results = list(tqdm(pool.imap(run_simulation, tasks), total=len(tasks)))\n",
    "\n",
    "data[params.type] = results"
   ]
  },
  {
   "cell_type": "markdown",
   "id": "e24a8a60",
   "metadata": {},
   "source": [
    "# Exponential Agent"
   ]
  },
  {
   "cell_type": "code",
   "execution_count": 12,
   "id": "91a26e6f",
   "metadata": {},
   "outputs": [
    {
     "name": "stderr",
     "output_type": "stream",
     "text": [
      "100%|██████████| 62/62 [49:39<00:00, 48.05s/it]  \n"
     ]
    }
   ],
   "source": [
    "params.type = 'exponential'\n",
    "params.agent = ExponentialAgent\n",
    "alpha_range = list(np.arange(0.01, 1, 0.016))\n",
    "\n",
    "def run_simulation(alpha):\n",
    "    params.alpha = alpha\n",
    "    sim = Simulation(params, agent_classes[params.type])\n",
    "    return np.mean(sim.run(folder))\n",
    "\n",
    "tasks = []\n",
    "for alpha in alpha_range:\n",
    "    tasks.append(alpha)\n",
    "\n",
    "with Pool(MAX_PROCESSES) as pool:\n",
    "    results = list(tqdm(pool.imap(run_simulation, tasks), total=len(tasks)))\n",
    "\n",
    "data[params.type] = results"
   ]
  },
  {
   "cell_type": "markdown",
   "id": "bac98ce5",
   "metadata": {},
   "source": [
    "# Brownian Agent"
   ]
  },
  {
   "cell_type": "code",
   "execution_count": 5,
   "id": "92a9ea9c",
   "metadata": {},
   "outputs": [],
   "source": [
    "params.type = 'brownian'\n",
    "params.agent = BrownianAgent\n",
    "\n",
    "sim = Simulation(params, params.agent)\n",
    "\n",
    "data[params.type] = np.mean(sim.run(folder))"
   ]
  },
  {
   "cell_type": "markdown",
   "id": "0859da91",
   "metadata": {},
   "source": [
    "# Ballistic Agent"
   ]
  },
  {
   "cell_type": "code",
   "execution_count": 6,
   "id": "e3ee0c15",
   "metadata": {},
   "outputs": [],
   "source": [
    "params.type = 'ballistic'\n",
    "params.agent = BallisticAgent\n",
    "\n",
    "sim = Simulation(params, params.agent)\n",
    "\n",
    "data[params.type] = np.mean(sim.run(folder))"
   ]
  },
  {
   "cell_type": "code",
   "execution_count": 13,
   "id": "aef0de3a",
   "metadata": {},
   "outputs": [],
   "source": [
    "with open(path / 'data.pkl', 'wb') as f:\n",
    "    pickle.dump(data, f)"
   ]
  },
  {
   "cell_type": "markdown",
   "id": "66b883a3",
   "metadata": {},
   "source": [
    "# Visualize"
   ]
  },
  {
   "cell_type": "code",
   "execution_count": 58,
   "id": "a1ce8dff",
   "metadata": {},
   "outputs": [
    {
     "data": {
      "image/png": "[encoded data removed]",
      "text/plain": [
       "<Figure size 478x350 with 3 Axes>"
      ]
     },
     "metadata": {},
     "output_type": "display_data"
    }
   ],
   "source": [
    "plt.rcParams.update({\n",
    "    \"text.usetex\": True,\n",
    "    \"font.size\": 10,\n",
    "    \"font.family\": \"serif\"\n",
    "})\n",
    "fig, ax1 = plt.subplots(figsize=(LATEX_TEXTWIDTH, 3.5))\n",
    "\n",
    "with open(path / 'data.pkl', 'rb') as f:\n",
    "    data = pickle.load(f)\n",
    "\n",
    "# first x-axis for reservoir\n",
    "for size in reservoir_sizes:\n",
    "    ax1.plot(std_range, data['reservoir_' + str(size)], '.', label=f'Reservoir', markersize=3, zorder=2)\n",
    "ax1.set_xlabel('$\\sigma$')\n",
    "ax1.set_ylabel('Fitness')\n",
    "\n",
    "# second x-axis for levy\n",
    "ax2 = ax1.twiny()\n",
    "ax2.plot(mu_range, data['levy'], '.', label='Lévy', color='purple', markersize=3, zorder=2)\n",
    "ax2.set_xlabel(r'$\\mu$')\n",
    "\n",
    "# third x-axis for exponential\n",
    "ax3 = ax1.twiny()\n",
    "ax3.spines[\"top\"].set_position((\"axes\", 1.15))  # offset third axis\n",
    "ax3.plot(alpha_range, data['exponential'], '.', label='Exponential', color='orange', markersize=3, zorder=2)\n",
    "ax3.set_xlabel('$\\\\alpha$')\n",
    "ax3.xaxis.set_label_position('top')\n",
    "\n",
    "# horizontal lines for brownian and ballistic\n",
    "plt.axhline(y=data['brownian'], color='g', linestyle='--', linewidth=1, label='Brownian', zorder=1)\n",
    "plt.axhline(y=data['ballistic'], color='gray', linestyle='--', linewidth=1, label='Ballistic', zorder=1)\n",
    "\n",
    "# combined legends\n",
    "lines, labels = ax1.get_legend_handles_labels()\n",
    "lines2, labels2 = ax2.get_legend_handles_labels()\n",
    "lines3, labels3 = ax3.get_legend_handles_labels()\n",
    "\n",
    "legend = plt.legend(lines + lines2 + lines3, labels + labels2 + labels3, loc='lower right', fancybox=True, edgecolor='gray', borderpad=0.3, facecolor='white', frameon=True, framealpha=1)\n",
    "legend.get_frame().set_linewidth(0.5)\n",
    "\n",
    "plt.savefig(path / 'fitness.pdf', format='pdf', bbox_inches='tight')"
   ]
  }
 ],
 "metadata": {
  "kernelspec": {
   "display_name": "levy-agent-simulation",
   "language": "python",
   "name": "python3"
  },
  "language_info": {
   "codemirror_mode": {
    "name": "ipython",
    "version": 3
   },
   "file_extension": ".py",
   "mimetype": "text/x-python",
   "name": "python",
   "nbconvert_exporter": "python",
   "pygments_lexer": "ipython3",
   "version": "3.11.4"
  }
 },
 "nbformat": 4,
 "nbformat_minor": 5
}
