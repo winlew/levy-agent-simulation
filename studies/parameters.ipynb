{
 "cells": [
  {
   "cell_type": "markdown",
   "id": "ea746ce0",
   "metadata": {},
   "source": [
    "# Compare the Fitness of Agents for Different Parameterizations\n",
    "\n",
    "**Objective**: Under which parameterization is each agents exploration strategy optimal?\n",
    "\n",
    "| Agent    | Parameter      |\n",
    "| ------------- | ------------- |\n",
    "| Reservoir | $\\sigma$ |\n",
    "| Lévy | $\\mu$ |\n",
    "| Exponential | $\\alpha$ |"
   ]
  },
  {
   "cell_type": "code",
   "execution_count": null,
   "id": "65bf235e",
   "metadata": {},
   "outputs": [],
   "source": [
    "import os\n",
    "os.chdir(os.path.join(os.getcwd(), \"../code\"))\n",
    "import numpy as np\n",
    "from parameters import Params\n",
    "from simulation import Simulation\n",
    "from tqdm import tqdm\n",
    "from agent import ReservoirAgent, LévyAgent, ExponentialAgent, BallisticAgent, BrownianAgent\n",
    "import matplotlib.pyplot as plt\n",
    "\n",
    "folder = 'none'\n",
    "params = Params.from_json('parameters.json')\n",
    "params.save = False\n",
    "data = {}\n",
    "\n",
    "print(vars(params))"
   ]
  },
  {
   "cell_type": "markdown",
   "id": "b70ddea6",
   "metadata": {},
   "source": [
    "# Reservoir Agent"
   ]
  },
  {
   "cell_type": "code",
   "execution_count": null,
   "id": "eb641f88",
   "metadata": {},
   "outputs": [],
   "source": [
    "params.type = 'reservoir'\n",
    "params.agent = ReservoirAgent\n",
    "std_range = list(np.arange(0.02, 0.05, 0.0005))\n",
    "reservoir_sizes = [1000]\n",
    "\n",
    "for size in reservoir_sizes:\n",
    "    params.num_neurons = size\n",
    "    fitness_values = []\n",
    "    \n",
    "    for std in tqdm(std_range, position=0):\n",
    "        params.standard_deviation = std\n",
    "        sim = Simulation(params, params.agent)\n",
    "        fitness_values.append(np.mean(sim.run(folder), axis=(0,1)))\n",
    "    \n",
    "    data[params.type + '_' + str(size)] = fitness_values"
   ]
  },
  {
   "cell_type": "markdown",
   "id": "f2b30314",
   "metadata": {},
   "source": [
    "# Lévy Agent"
   ]
  },
  {
   "cell_type": "code",
   "execution_count": null,
   "id": "b9a07d94",
   "metadata": {},
   "outputs": [],
   "source": [
    "params.type = 'levy'\n",
    "params.agent = LévyAgent\n",
    "mu_range = list(np.arange(1, 5, 0.2))\n",
    "\n",
    "fitness_values = []\n",
    "\n",
    "for mu in tqdm(mu_range):\n",
    "    params.mu = mu\n",
    "    sim = Simulation(params, params.agent)\n",
    "    fitness_values.append(np.mean(sim.run(folder)))\n",
    "\n",
    "data[params.type] = fitness_values"
   ]
  },
  {
   "cell_type": "markdown",
   "id": "e24a8a60",
   "metadata": {},
   "source": [
    "# Exponential Agent"
   ]
  },
  {
   "cell_type": "code",
   "execution_count": null,
   "id": "91a26e6f",
   "metadata": {},
   "outputs": [],
   "source": [
    "params.type = 'exponential'\n",
    "params.agent = ExponentialAgent\n",
    "alpha_range = list(np.arange(0.1, 2, 0.1))\n",
    "\n",
    "fitness_values = []\n",
    "\n",
    "for alpha in tqdm(alpha_range):\n",
    "    params.alpha = alpha\n",
    "    sim = Simulation(params, params.agent)\n",
    "    fitness_values.append(np.mean(sim.run(folder)))\n",
    "\n",
    "data[params.type] = fitness_values"
   ]
  },
  {
   "cell_type": "markdown",
   "id": "bac98ce5",
   "metadata": {},
   "source": [
    "# Brownian Agent"
   ]
  },
  {
   "cell_type": "code",
   "execution_count": null,
   "id": "92a9ea9c",
   "metadata": {},
   "outputs": [],
   "source": [
    "params.type = 'brownian'\n",
    "params.agent = BrownianAgent\n",
    "\n",
    "sim = Simulation(params, params.agent)\n",
    "\n",
    "data[params.type] = np.mean(sim.run(folder))"
   ]
  },
  {
   "cell_type": "markdown",
   "id": "0859da91",
   "metadata": {},
   "source": [
    "# Ballistic Agent"
   ]
  },
  {
   "cell_type": "code",
   "execution_count": null,
   "id": "e3ee0c15",
   "metadata": {},
   "outputs": [],
   "source": [
    "params.type = 'ballistic'\n",
    "params.agent = BallisticAgent\n",
    "\n",
    "sim = Simulation(params, params.agent)\n",
    "\n",
    "data[params.type] = np.mean(sim.run(folder))"
   ]
  },
  {
   "cell_type": "markdown",
   "id": "66b883a3",
   "metadata": {},
   "source": [
    "# Visualize"
   ]
  },
  {
   "cell_type": "code",
   "execution_count": null,
   "id": "a1ce8dff",
   "metadata": {},
   "outputs": [],
   "source": [
    "fig, ax1 = plt.subplots(figsize=(12, 8))\n",
    "\n",
    "# first x-axis for reservoir\n",
    "for size in reservoir_sizes:\n",
    "    ax1.plot(std_range, data['reservoir_' + str(size)], '.', label=f'{size} neuron reservoir')\n",
    "ax1.set_xlabel(r'$\\sigma$')\n",
    "ax1.set_ylabel('Fitness')\n",
    "ax1.set_title('Exploration for Different Standard Deviations')\n",
    "\n",
    "# second x-axis for levy\n",
    "ax2 = ax1.twiny()\n",
    "ax2.plot(mu_range, data['levy'], '.', label='levy', color='black')\n",
    "ax2.set_xlabel(r'$\\mu$')\n",
    "\n",
    "# third x-axis for exponential\n",
    "ax3 = ax1.twiny()\n",
    "ax3.spines[\"top\"].set_position((\"axes\", 1.1))  # Offset third axis\n",
    "ax3.plot(mu_range, data['exponential'], '.', label='exponential', color='orange')\n",
    "ax3.set_xlabel(r'$\\lambda$')\n",
    "ax3.xaxis.set_label_position('top')\n",
    "\n",
    "# horizontal lines for brownian and ballistic\n",
    "plt.axhline(y=data['brownian'], color='g', linestyle='--', label='Brownian')\n",
    "plt.axhline(y=data['ballistic'], color='b', linestyle='--', label='Ballistic')\n",
    "\n",
    "# combined legends\n",
    "lines, labels = ax1.get_legend_handles_labels()\n",
    "lines2, labels2 = ax2.get_legend_handles_labels()\n",
    "ax1.legend(lines + lines2, labels + labels2)\n",
    "# add to combined legends\n",
    "lines3, labels3 = ax3.get_legend_handles_labels()\n",
    "ax1.legend(lines + lines2 + lines3, labels + labels2 + labels3)\n",
    "\n",
    "plt.show()"
   ]
  }
 ],
 "metadata": {
  "kernelspec": {
   "display_name": "levy-agent-simulation",
   "language": "python",
   "name": "python3"
  },
  "language_info": {
   "codemirror_mode": {
    "name": "ipython",
    "version": 3
   },
   "file_extension": ".py",
   "mimetype": "text/x-python",
   "name": "python",
   "nbconvert_exporter": "python",
   "pygments_lexer": "ipython3",
   "version": "3.11.4"
  }
 },
 "nbformat": 4,
 "nbformat_minor": 5
}
