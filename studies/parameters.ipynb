{
 "cells": [
  {
   "cell_type": "markdown",
   "id": "ea746ce0",
   "metadata": {},
   "source": [
    "# Compare the Fitness of Agents for Different Parameterizations\n",
    "\n",
    "**Objective**: Under which parameterization is each agents exploration strategy optimal?\n",
    "\n",
    "| Agent    | Parameter      |\n",
    "| ------------- | ------------- |\n",
    "| Reservoir | $\\sigma$ |\n",
    "| Lévy | $\\mu$ |\n",
    "| Exponential | $\\alpha$ |"
   ]
  },
  {
   "cell_type": "code",
   "execution_count": 1,
   "id": "65bf235e",
   "metadata": {},
   "outputs": [
    {
     "name": "stdout",
     "output_type": "stream",
     "text": [
      "{'agent': <class 'agent.ReservoirAgent'>, 'eat_radius': 0.5, 'velocity': 1, 'perception_radius': 0.5, 'mu': 2, 'alpha': 1, 'num_food': 100, 'size': 200, 'border_buffer': 5, 'food_buffer': 2, 'empty': False, 'resetting_boundary': True, 'seed': 34, 'population_size': 50, 'elite_fraction': 0.4, 'mutation_fraction': 0.4, 'mutation_rate': 0.1, 'mutation_strength': 0.1, 'tolerance': 0.1, 'total_time': 999, 'delta_t': 1, 'num_epochs': 1, 'iterations_per_epoch': 20, 'intervall_save': 5, 'save': False, 'num_neurons': 1000, 'burn_in_time': 100, 'mean': 0, 'standard_deviation': 0.032, 'evolve': False, 'simulation_steps': 1000}\n"
     ]
    }
   ],
   "source": [
    "import os\n",
    "os.chdir(os.path.join(os.getcwd(), \"../code\"))\n",
    "import numpy as np\n",
    "from parameters import Params, agent_classes\n",
    "from simulation import Simulation\n",
    "from tqdm import tqdm\n",
    "from agent import ReservoirAgent, LévyAgent, ExponentialAgent, BallisticAgent, BrownianAgent\n",
    "import matplotlib.pyplot as plt\n",
    "from multiprocessing import Pool\n",
    "from config import DATA_PATH, MAX_PROCESSES\n",
    "from pathlib import Path\n",
    "import pickle\n",
    "\n",
    "params = Params.from_json('parameters.json')\n",
    "params.save = False\n",
    "folder = 'parameters'\n",
    "path = Path(DATA_PATH) / folder\n",
    "path.mkdir(parents=True, exist_ok=True)\n",
    "data = {}\n",
    "\n",
    "print(vars(params))"
   ]
  },
  {
   "cell_type": "markdown",
   "id": "b70ddea6",
   "metadata": {},
   "source": [
    "# Reservoir Agent\n",
    "\n",
    "Note: Computing the reservoir activity over time is computationally expensive and may use all cores, so multiprocessing is not worth it for reservoir agents. \\\n",
    "Advice: limit population size to 50 and iterations_per_epoch to 10 if you want the reservoir agents to finish in reasonable time."
   ]
  },
  {
   "cell_type": "code",
   "execution_count": 2,
   "id": "eb641f88",
   "metadata": {},
   "outputs": [
    {
     "name": "stderr",
     "output_type": "stream",
     "text": [
      "100%|██████████| 60/60 [4:51:48<00:00, 291.81s/it]  \n"
     ]
    }
   ],
   "source": [
    "params.type = 'reservoir'\n",
    "params.agent = ReservoirAgent\n",
    "std_range = list(np.arange(0.02, 0.05, 0.0005))\n",
    "reservoir_sizes = [1000]\n",
    "\n",
    "for size in reservoir_sizes:\n",
    "    params.num_neurons = size\n",
    "    fitness_values = []\n",
    "    \n",
    "    for std in tqdm(std_range, position=0):\n",
    "        params.standard_deviation = std\n",
    "        sim = Simulation(params, params.agent)\n",
    "        fitness_values.append(np.mean(sim.run(folder), axis=(0,1)))\n",
    "    \n",
    "    data[params.type + '_' + str(size)] = fitness_values"
   ]
  },
  {
   "cell_type": "markdown",
   "id": "f2b30314",
   "metadata": {},
   "source": [
    "# Lévy Agent"
   ]
  },
  {
   "cell_type": "code",
   "execution_count": 3,
   "id": "b9a07d94",
   "metadata": {},
   "outputs": [
    {
     "name": "stderr",
     "output_type": "stream",
     "text": [
      "100%|██████████| 20/20 [15:44<00:00, 47.23s/it]  \n"
     ]
    }
   ],
   "source": [
    "params.type = 'levy'\n",
    "params.agent = LévyAgent\n",
    "mu_range = list(np.arange(1, 5, 0.2))\n",
    "\n",
    "def run_simulation(mu):\n",
    "    params.mu = mu\n",
    "    sim = Simulation(params, agent_classes[params.type])\n",
    "    return np.mean(sim.run(folder))\n",
    "\n",
    "tasks = []\n",
    "for mu in mu_range:\n",
    "    tasks.append(mu)\n",
    "\n",
    "with Pool(MAX_PROCESSES) as pool:\n",
    "    results = list(tqdm(pool.imap(run_simulation, tasks), total=len(tasks)))\n",
    "\n",
    "data[params.type] = results"
   ]
  },
  {
   "cell_type": "markdown",
   "id": "e24a8a60",
   "metadata": {},
   "source": [
    "# Exponential Agent"
   ]
  },
  {
   "cell_type": "code",
   "execution_count": 4,
   "id": "91a26e6f",
   "metadata": {},
   "outputs": [
    {
     "name": "stderr",
     "output_type": "stream",
     "text": [
      "100%|██████████| 19/19 [15:17<00:00, 48.28s/it]  \n"
     ]
    }
   ],
   "source": [
    "params.type = 'exponential'\n",
    "params.agent = ExponentialAgent\n",
    "alpha_range = list(np.arange(0.1, 2, 0.1))\n",
    "\n",
    "def run_simulation(alpha):\n",
    "    params.alpha = alpha\n",
    "    sim = Simulation(params, agent_classes[params.type])\n",
    "    return np.mean(sim.run(folder))\n",
    "\n",
    "tasks = []\n",
    "for alpha in alpha_range:\n",
    "    tasks.append(alpha)\n",
    "\n",
    "with Pool(MAX_PROCESSES) as pool:\n",
    "    results = list(tqdm(pool.imap(run_simulation, tasks), total=len(tasks)))\n",
    "\n",
    "data[params.type] = results"
   ]
  },
  {
   "cell_type": "markdown",
   "id": "bac98ce5",
   "metadata": {},
   "source": [
    "# Brownian Agent"
   ]
  },
  {
   "cell_type": "code",
   "execution_count": 5,
   "id": "92a9ea9c",
   "metadata": {},
   "outputs": [],
   "source": [
    "params.type = 'brownian'\n",
    "params.agent = BrownianAgent\n",
    "\n",
    "sim = Simulation(params, params.agent)\n",
    "\n",
    "data[params.type] = np.mean(sim.run(folder))"
   ]
  },
  {
   "cell_type": "markdown",
   "id": "0859da91",
   "metadata": {},
   "source": [
    "# Ballistic Agent"
   ]
  },
  {
   "cell_type": "code",
   "execution_count": 6,
   "id": "e3ee0c15",
   "metadata": {},
   "outputs": [],
   "source": [
    "params.type = 'ballistic'\n",
    "params.agent = BallisticAgent\n",
    "\n",
    "sim = Simulation(params, params.agent)\n",
    "\n",
    "data[params.type] = np.mean(sim.run(folder))"
   ]
  },
  {
   "cell_type": "code",
   "execution_count": 7,
   "id": "aef0de3a",
   "metadata": {},
   "outputs": [],
   "source": [
    "with open(path / 'data.pkl', 'wb') as f:\n",
    "    pickle.dump(data, f)"
   ]
  },
  {
   "cell_type": "markdown",
   "id": "66b883a3",
   "metadata": {},
   "source": [
    "# Visualize"
   ]
  },
  {
   "cell_type": "code",
   "execution_count": 19,
   "id": "a1ce8dff",
   "metadata": {},
   "outputs": [
    {
     "data": {
      "image/png": "[encoded data removed]",
      "text/plain": [
       "<Figure size 1200x800 with 2 Axes>"
      ]
     },
     "metadata": {},
     "output_type": "display_data"
    }
   ],
   "source": [
    "fig, ax1 = plt.subplots(figsize=(12, 8))\n",
    "\n",
    "with open(path / 'data.pkl', 'rb') as f:\n",
    "    data = pickle.load(f)\n",
    "\n",
    "# first x-axis for reservoir\n",
    "for size in reservoir_sizes:\n",
    "    ax1.plot(std_range, data['reservoir_' + str(size)], '.', label=f'{size} neuron reservoir')\n",
    "ax1.set_xlabel(r'$\\sigma$')\n",
    "ax1.set_ylabel('Fitness')\n",
    "ax1.set_title('Exploration of Agent Types')\n",
    "\n",
    "# second x-axis for levy\n",
    "ax2 = ax1.twiny()\n",
    "ax2.plot(mu_range, data['levy'], '.', label='levy', color='black')\n",
    "ax2.set_xlabel(r'$\\mu$')\n",
    "\n",
    "# # third x-axis for exponential\n",
    "# ax3 = ax1.twiny()\n",
    "# ax3.spines[\"top\"].set_position((\"axes\", 1.1))  # offset third axis\n",
    "# ax3.plot(alpha_range, data['exponential'], '.', label='exponential', color='orange')\n",
    "# ax3.set_xlabel(r'$\\alpha$')\n",
    "# ax3.xaxis.set_label_position('top')\n",
    "\n",
    "# horizontal lines for brownian and ballistic\n",
    "plt.axhline(y=data['brownian'], color='g', linestyle='--', label='brownian')\n",
    "plt.axhline(y=data['ballistic'], color='b', linestyle='--', label='ballistic')\n",
    "\n",
    "# combined legends\n",
    "lines, labels = ax1.get_legend_handles_labels()\n",
    "lines2, labels2 = ax2.get_legend_handles_labels()\n",
    "ax1.legend(lines + lines2, labels + labels2, bbox_to_anchor=(1, 0.23))\n",
    "# add to combined legends\n",
    "# lines3, labels3 = ax3.get_legend_handles_labels()\n",
    "# ax1.legend(lines + lines2 + lines3, labels + labels2 + labels3, loc='lower right')\n",
    "\n",
    "plt.savefig(path / 'fitness.svg', format='svg')"
   ]
  }
 ],
 "metadata": {
  "kernelspec": {
   "display_name": "levy-agent-simulation",
   "language": "python",
   "name": "python3"
  },
  "language_info": {
   "codemirror_mode": {
    "name": "ipython",
    "version": 3
   },
   "file_extension": ".py",
   "mimetype": "text/x-python",
   "name": "python",
   "nbconvert_exporter": "python",
   "pygments_lexer": "ipython3",
   "version": "3.11.4"
  }
 },
 "nbformat": 4,
 "nbformat_minor": 5
}
