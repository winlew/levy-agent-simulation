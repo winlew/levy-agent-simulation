{
 "cells": [
  {
   "cell_type": "markdown",
   "metadata": {},
   "source": [
    "# Simulate a Neural Reservoir"
   ]
  },
  {
   "cell_type": "code",
   "execution_count": null,
   "metadata": {},
   "outputs": [
    {
     "name": "stderr",
     "output_type": "stream",
     "text": [
      "\n",
      "\u001b[A\n",
      "\u001b[A"
     ]
    }
   ],
   "source": [
    "import numpy as np\n",
    "import matplotlib.pyplot as plt\n",
    "import igraph as ig\n",
    "from matplotlib.animation import FuncAnimation\n",
    "from tqdm import tqdm\n",
    "from config import DATA_PATH\n",
    "\n",
    "folder = DATA_PATH / 'experiments' \n",
    "\n",
    "def simulate_reservoir(num_neurons, connection_probability, time_steps, initially_active_ratio):\n",
    "    \"\"\"\n",
    "    Create a bunch of neurons that are randomly connected to each other.\n",
    "    Neurons can have two states: on and off.\n",
    "\n",
    "    Args:\n",
    "        num_neurons (int): Number of neurons in the reservoir.\n",
    "        connection_probability (float): Probability of connection between any two neurons.\n",
    "        time_steps (int): Number of time steps to simulate.\n",
    "    \"\"\"\n",
    "    \n",
    "    connection_matrix = np.random.random((num_neurons, num_neurons)) < connection_probability\n",
    "    neuron_state_time_matrix = np.zeros((time_steps, num_neurons), dtype=int)\n",
    "    \n",
    "    # randomly activate 10% of neurons initially\n",
    "    neuron_state_time_matrix[0] = (np.random.random(num_neurons) < initially_active_ratio).astype(int)\n",
    "\n",
    "    # simulate network activity over time\n",
    "    for t in range(1, time_steps):\n",
    "        # for each neuron, check if any of its connected neighbors were active at t-1\n",
    "        for i in range(num_neurons):\n",
    "            # get all neurons that connect to neuron i\n",
    "            neighbors = np.where(connection_matrix[:, i])[0]\n",
    "            # check if any neighbors were active at previous time step\n",
    "            if np.sum(neuron_state_time_matrix[t-1, neighbors] == 1) == 1:\n",
    "                neuron_state_time_matrix[t, i] = 1\n",
    "    \n",
    "    return neuron_state_time_matrix, connection_matrix\n",
    "\n",
    "def animate_reservoir(neuron_state_time_matrix, connection_matrix, file_name):\n",
    "    \"\"\"\n",
    "    Animate the network activity over time.\n",
    "    Args:\n",
    "        neuron_state_time_matrix (np.ndarray): Matrix of neuron states over time.\n",
    "        connection_matrix (np.ndarray): Connection matrix of the reservoir.\n",
    "        file_name (str): Name of the output GIF file.\n",
    "    \"\"\"\n",
    "    time_steps = neuron_state_time_matrix.shape[0]\n",
    "\n",
    "    # create graph\n",
    "    g = ig.Graph.Adjacency((connection_matrix > 0).tolist(), mode='directed')\n",
    "    layout = g.layout(layout='auto')\n",
    "    # layout = g.layout_fruchterman_reingold()\n",
    "\n",
    "    # plot graph\n",
    "    fig, ax = plt.subplots(figsize=(10, 8))\n",
    "    \n",
    "    def update(frame):\n",
    "        ax.clear()\n",
    "        node_colors = ['lightgray' if state == 0 else 'red' for state in neuron_state_time_matrix[frame]]\n",
    "        ig.plot(\n",
    "            g, \n",
    "            target=ax,\n",
    "            layout=layout, \n",
    "            vertex_color=node_colors,\n",
    "            vertex_size=10,\n",
    "            vertex_label_size=8,\n",
    "            edge_width=0.5,\n",
    "            edge_arrow_size=0.5,\n",
    "            edge_arrow_width=0.2,\n",
    "            margin=30\n",
    "        )\n",
    "        ax.set_title(f\"Reservoir at Timestep {frame}/{time_steps}\")\n",
    "        ax.set_axis_off()\n",
    "        return ax\n",
    "\n",
    "    frames = tqdm(range(time_steps), desc=\"Rendering animation\")\n",
    "    ani = FuncAnimation(fig, update, frames=frames, interval=500, blit=False)\n",
    "    ani.save(file_name, writer='pillow', fps=10, dpi=100)\n",
    "    plt.close()\n",
    "\n",
    "if __name__ == \"__main__\":\n",
    "    num_neurons = 300\n",
    "    connection_probability = 0.01\n",
    "    time_steps = 100\n",
    "    initially_active_ratio = 0.01\n",
    "    neuron_state_time_matrix, connection_matrix = simulate_reservoir(num_neurons, connection_probability, time_steps, initially_active_ratio)\n",
    "\n",
    "    animate_reservoir(neuron_state_time_matrix, connection_matrix, folder / 'reservoir.gif')"
   ]
  }
 ],
 "metadata": {
  "kernelspec": {
   "display_name": "levy-agent-simulation",
   "language": "python",
   "name": "python3"
  },
  "language_info": {
   "codemirror_mode": {
    "name": "ipython",
    "version": 3
   },
   "file_extension": ".py",
   "mimetype": "text/x-python",
   "name": "python",
   "nbconvert_exporter": "python",
   "pygments_lexer": "ipython3",
   "version": "3.11.4"
  }
 },
 "nbformat": 4,
 "nbformat_minor": 2
}
