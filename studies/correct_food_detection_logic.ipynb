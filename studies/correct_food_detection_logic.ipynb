{
 "cells": [
  {
   "cell_type": "markdown",
   "metadata": {},
   "source": [
    "# Correct Food Detection Logic\n",
    "Agents move in a quasi-continuous environment, but their positions are updated in discrete steps of velocity/$\\Delta t$ spatial units at each time step.\n",
    "It is insufficient to only check whether the agent stepped on food each time the agent updated its position, because this leaves an unchecked area in between those positions.\n",
    "<p align='center'>\n",
    "    <img src=\"../resources/Sketch Discrete Agent Position Update.png\" alt=\"Image\" width=\"300\">\n",
    "</p>\n",
    "\n",
    "This gets worse, when the step size increases due to\n",
    "- high velocity or\n",
    "- small $\\Delta t$\n",
    "\n",
    "or the eat radius is small in comparison to the step size.\n",
    "\n",
    "**Objective**: Create a function that solves this problem by checking the whole path the agent moved at each time step, such that no food particle can be missed.\n",
    "\n",
    "## Solution\n",
    "Add a check whether there is a food particle inside the rectangle that is spanned by the two positions of the consecutive time steps and the eat radius.\n",
    "<p align='center'>\n",
    "    <img src=\"../resources/Sketch Discrete Agent Movement Check.png\" alt=\"Image\" width=\"300\">\n",
    "</p>"
   ]
  },
  {
   "cell_type": "markdown",
   "metadata": {},
   "source": [
    "Test whether a point is inside a rectangle that is rotated in space by an arbitrary angle."
   ]
  },
  {
   "cell_type": "code",
   "execution_count": 3,
   "metadata": {},
   "outputs": [
    {
     "name": "stdout",
     "output_type": "stream",
     "text": [
      "False\n"
     ]
    },
    {
     "data": {
      "image/png": "[encoded data removed]",
      "text/plain": [
       "<Figure size 400x400 with 1 Axes>"
      ]
     },
     "metadata": {},
     "output_type": "display_data"
    }
   ],
   "source": [
    "import math\n",
    "import matplotlib.pyplot as plt\n",
    "import random\n",
    "\n",
    "SIZE = 100\n",
    "MAX_DIMENSION = 20\n",
    "\n",
    "class Point:\n",
    "    def __init__(self, x, y):\n",
    "        self.x = x\n",
    "        self.y = y\n",
    "\n",
    "    def __add__(self, other):\n",
    "        return Point(self.x + other.x, self.y + other.y)\n",
    "    \n",
    "    def __sub__(self, other):\n",
    "        return Point(self.x - other.x, self.y - other.y)\n",
    "    \n",
    "    def __mul__(self, other):\n",
    "        return Point(self.x * other, self.y * other)\n",
    "    \n",
    "    def dot(self, other):\n",
    "        return self.x * other.x + self.y * other.y\n",
    "\n",
    "class Rectangle:\n",
    "    def __init__(self, a, b, c, d):\n",
    "        self.a = a\n",
    "        self.b = b\n",
    "        self.c = c\n",
    "        self.d = d\n",
    "        \n",
    "    def rotate(self):\n",
    "        angle = random.uniform(0, 2 * math.pi) \n",
    "        center_x = (self.a.x + self.c.x) / 2\n",
    "        center_y = (self.a.y + self.c.y) / 2\n",
    "        def rotate_point(p):\n",
    "            cos_theta = math.cos(angle)\n",
    "            sin_theta = math.sin(angle)\n",
    "            x_shifted, y_shifted = p.x - center_x, p.y - center_y\n",
    "            x_rotated = x_shifted * cos_theta - y_shifted * sin_theta\n",
    "            y_rotated = x_shifted * sin_theta + y_shifted * cos_theta\n",
    "            return Point(center_x + x_rotated, center_y + y_rotated)\n",
    "        self.a = rotate_point(self.a)\n",
    "        self.b = rotate_point(self.b)\n",
    "        self.c = rotate_point(self.c)\n",
    "        self.d = rotate_point(self.d)\n",
    "\n",
    "def rectangle_from_point(point):\n",
    "    length = random.randint(5, MAX_DIMENSION)\n",
    "    width = random.randint(5, MAX_DIMENSION)\n",
    "    a = Point(point.x - length, point.y + width)\n",
    "    b = Point(point.x + length, point.y + width)\n",
    "    c = Point(point.x + length, point.y - width)\n",
    "    d = Point(point.x - length, point.y - width)\n",
    "    return Rectangle(a, b, c, d)\n",
    "\n",
    "def get_random_point():\n",
    "    x = Point(random.randint(MAX_DIMENSION, SIZE - MAX_DIMENSION), random.randint(MAX_DIMENSION, SIZE - MAX_DIMENSION))\n",
    "    return x\n",
    "\n",
    "def inside_rectangle(rectangle, point):\n",
    "    v1 = rectangle.b - rectangle.a\n",
    "    v2 = rectangle.d - rectangle.a\n",
    "    vx = point - rectangle.a\n",
    "    lambda1 = v1.dot(vx) / v1.dot(v1)\n",
    "    lambda2 = v2.dot(vx) / v2.dot(v2)\n",
    "    if 0 <= lambda1 <= 1 and 0 <= lambda2 <= 1:\n",
    "        return True \n",
    "    else:\n",
    "        return False\n",
    "\n",
    "def render(rectangle, points):\n",
    "    _, ax = plt.subplots(figsize = (4, 4))\n",
    "    ax.set_xlim(0, SIZE)\n",
    "    ax.set_ylim(0, SIZE)\n",
    "    plt.plot([rectangle.a.x, rectangle.b.x, rectangle.c.x, rectangle.d.x, rectangle.a.x], [rectangle.a.y, rectangle.b.y, rectangle.c.y, rectangle.d.y, rectangle.a.y], color='black')\n",
    "    for point in points:\n",
    "        plt.plot(point.x, point.y, 'ro')\n",
    "\n",
    "rectangle = rectangle_from_point(get_random_point())\n",
    "rectangle.rotate()\n",
    "point = get_random_point()\n",
    "render(rectangle, [point])\n",
    "\n",
    "print(inside_rectangle(rectangle, point))"
   ]
  },
  {
   "cell_type": "markdown",
   "metadata": {},
   "source": [
    "Next develop the logic that finds the 4 rectangle corners from the positions of the agent at the consecutive time steps."
   ]
  },
  {
   "cell_type": "code",
   "execution_count": 4,
   "metadata": {},
   "outputs": [
    {
     "data": {
      "image/png": "[encoded data removed]",
      "text/plain": [
       "<Figure size 400x400 with 1 Axes>"
      ]
     },
     "metadata": {},
     "output_type": "display_data"
    }
   ],
   "source": [
    "point1 = get_random_point()\n",
    "point2 = get_random_point()\n",
    "\n",
    "def get_rectangle_corners(point1, point2, radius):\n",
    "    vector = point2 - point1\n",
    "    perpendicular = Point(-vector.y / math.sqrt(vector.dot(vector)), vector.x / math.sqrt(vector.dot(vector)))\n",
    "    a = point1 + perpendicular * radius\n",
    "    b = point1 - perpendicular * radius\n",
    "    c = point2 - perpendicular * radius\n",
    "    d = point2 + perpendicular * radius\n",
    "    return Rectangle(a, b, c, d)\n",
    "\n",
    "rectangle = get_rectangle_corners(point1, point2, random.randint(5, MAX_DIMENSION))\n",
    "render(rectangle, [point1, point2])"
   ]
  }
 ],
 "metadata": {
  "kernelspec": {
   "display_name": "levy-agent-simulation",
   "language": "python",
   "name": "python3"
  },
  "language_info": {
   "codemirror_mode": {
    "name": "ipython",
    "version": 3
   },
   "file_extension": ".py",
   "mimetype": "text/x-python",
   "name": "python",
   "nbconvert_exporter": "python",
   "pygments_lexer": "ipython3",
   "version": "3.11.4"
  }
 },
 "nbformat": 4,
 "nbformat_minor": 2
}
