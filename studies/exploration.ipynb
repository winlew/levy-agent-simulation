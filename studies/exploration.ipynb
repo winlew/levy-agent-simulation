{
 "cells": [
  {
   "cell_type": "markdown",
   "metadata": {},
   "source": [
    "# Exploration Study\n",
    "**Objective**: Test which blind exploration regime is optimal. Compare Lévy walk like motion to ballistic motion.\n",
    "\n",
    "Agents forage for randomly distributed food particles in a 2D environment.\n",
    "How much food does each strategy consume?\n",
    "\n",
    "Consider:\n",
    "- blind\n",
    "- independent\n",
    "- non evolving\n",
    "\n",
    "agents that are randomly placed in the environment.\n",
    "All agents behave the same. So placing $n$ agents in the environment is the same as randomly initializing one agent $n$ times."
   ]
  },
  {
   "cell_type": "code",
   "execution_count": null,
   "metadata": {},
   "outputs": [],
   "source": [
    "import os\n",
    "os.chdir(os.path.join(os.getcwd(), \"../code\"))\n",
    "\n",
    "from environment import Environment\n",
    "from simulation import Params\n",
    "from data_io import load_epoch_data\n",
    "from simulation import Simulation\n",
    "import numpy as np\n",
    "from agent import LévyAgent, BallisticAgent\n",
    "from visualization import animate_single_iteration\n",
    "from tqdm import tqdm"
   ]
  },
  {
   "cell_type": "markdown",
   "metadata": {},
   "source": [
    "# Parameter Settings"
   ]
  },
  {
   "cell_type": "code",
   "execution_count": 8,
   "metadata": {},
   "outputs": [],
   "source": [
    "NUM_FOOD = 100\n",
    "SIZE = 100\n",
    "VELOCITY = 1\n",
    "EAT_RADIUS = 1\n",
    "NUM_ITERATIONS = 1\n",
    "POPULATION_SIZE = 20\n",
    "TOTAL_TIME = 99\n",
    "DELTA_T = 1\n",
    "\n",
    "RUNS = 1\n",
    "ADD_FOOD_MANUALLY = False\n",
    "WALLS = False"
   ]
  },
  {
   "cell_type": "markdown",
   "metadata": {},
   "source": [
    "# Set Up"
   ]
  },
  {
   "cell_type": "code",
   "execution_count": 9,
   "metadata": {},
   "outputs": [],
   "source": [
    "params = Params(\n",
    "    num_food = NUM_FOOD,\n",
    "    size = SIZE,\n",
    "    velocity = VELOCITY,\n",
    "    eat_radius = EAT_RADIUS,\n",
    "    iterations_per_epoch = NUM_ITERATIONS,\n",
    "    num_epochs = 1,\n",
    "    population_size = POPULATION_SIZE,\n",
    "    total_time = TOTAL_TIME,\n",
    "    delta_t = DELTA_T,\n",
    "    empty = False,\n",
    "    border_buffer = 2,\n",
    "    food_buffer = 2,\n",
    "    perception_radius = EAT_RADIUS\n",
    ")\n",
    "\n",
    "environment = Environment(params)\n",
    "\n",
    "if WALLS:\n",
    "    environment.add_wall(np.array([0, 0]), np.array([0, params.size]))\n",
    "    environment.add_wall(np.array([0, 0]), np.array([params.size, 0]))\n",
    "    environment.add_wall(np.array([params.size, 0]), np.array([params.size, params.size]))\n",
    "    environment.add_wall(np.array([0, params.size]), np.array([params.size, params.size]))\n",
    "\n",
    "if ADD_FOOD_MANUALLY:\n",
    "    environment.custom_food_positioning()\n",
    "    params.num_food = environment.num_food\n",
    "\n",
    "folder = 'exploration_study'\n",
    "\n",
    "consumptions_levy = []\n",
    "consumptions_ballistic = []"
   ]
  },
  {
   "cell_type": "markdown",
   "metadata": {},
   "source": [
    "# Lévy Agents"
   ]
  },
  {
   "cell_type": "code",
   "execution_count": 10,
   "metadata": {},
   "outputs": [],
   "source": [
    "def run_lévy():\n",
    "    sim = Simulation(params, LévyAgent)\n",
    "    sim.run(folder)\n",
    "    data, _, _ = load_epoch_data(folder)\n",
    "    # animate_single_iteration(0, environment, params, data, folder, 'levy', 0, elite_only = False)\n",
    "    consumptions_levy.append(data['ate'].values.sum())"
   ]
  },
  {
   "cell_type": "markdown",
   "metadata": {},
   "source": [
    "# Ballistic Agents"
   ]
  },
  {
   "cell_type": "code",
   "execution_count": 11,
   "metadata": {},
   "outputs": [],
   "source": [
    "def run_ballistic():\n",
    "    sim = Simulation(params, BallisticAgent)\n",
    "    sim.run(folder)\n",
    "    data, _, _ = load_epoch_data(folder)\n",
    "    # animate_single_iteration(0, environment, params, data, folder, 'ballistic', 0, elite_only = False)\n",
    "    consumptions_ballistic.append(data['ate'].values.sum())"
   ]
  },
  {
   "cell_type": "markdown",
   "metadata": {},
   "source": [
    "# Comparison"
   ]
  },
  {
   "cell_type": "code",
   "execution_count": 12,
   "metadata": {},
   "outputs": [
    {
     "name": "stdout",
     "output_type": "stream",
     "text": [
      "Starting simulation...\n"
     ]
    },
    {
     "name": "stderr",
     "output_type": "stream",
     "text": [
      "100%|██████████| 1/1 [00:00<00:00,  2.49it/s]\n"
     ]
    },
    {
     "name": "stdout",
     "output_type": "stream",
     "text": [
      "Saving simulation...\n",
      "Starting simulation...\n"
     ]
    },
    {
     "name": "stderr",
     "output_type": "stream",
     "text": [
      "100%|██████████| 1/1 [00:00<00:00,  2.73it/s]"
     ]
    },
    {
     "name": "stdout",
     "output_type": "stream",
     "text": [
      "Saving simulation...\n",
      "average number of food particles eaten by Lévy agents over all runs:       28.0\n",
      "average number of food particles eaten by ballistic agents over all runs:  35.0\n"
     ]
    },
    {
     "name": "stderr",
     "output_type": "stream",
     "text": [
      "\n"
     ]
    }
   ],
   "source": [
    "for _ in range(RUNS):\n",
    "    run_lévy()\n",
    "    run_ballistic()\n",
    "\n",
    "# calculate average consumptions\n",
    "consumptions_levy = np.array(consumptions_levy)\n",
    "consumptions_ballistic = np.array(consumptions_ballistic)\n",
    "print('average number of food particles eaten by Lévy agents over all runs:      ', consumptions_levy.mean())\n",
    "print('average number of food particles eaten by ballistic agents over all runs: ', consumptions_ballistic.mean())"
   ]
  }
 ],
 "metadata": {
  "kernelspec": {
   "display_name": "levy-agent-simulation",
   "language": "python",
   "name": "python3"
  },
  "language_info": {
   "codemirror_mode": {
    "name": "ipython",
    "version": 3
   },
   "file_extension": ".py",
   "mimetype": "text/x-python",
   "name": "python",
   "nbconvert_exporter": "python",
   "pygments_lexer": "ipython3",
   "version": "3.11.4"
  }
 },
 "nbformat": 4,
 "nbformat_minor": 2
}
